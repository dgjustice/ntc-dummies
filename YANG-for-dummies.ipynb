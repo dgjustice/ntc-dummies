{
 "cells": [
  {
   "cell_type": "markdown",
   "metadata": {},
   "source": [
    "# YANG for Dummies!\n",
    "\n",
    "Most people are excited to hear about the new projects from NetworkToCode, but quickly discover that there are a lot of moving parts that present a steep learning curve.  Community contributions will be critical to the success and adoption of these projects.  The groundwork has already been laid for IOS and JunOS drivers, so I want to document the path to onboarding completely new drivers.  I'll demonstrate this based on David Barroso's great article titled [\"YANG for dummies\"](https://napalm-automation.net/yang-for-dummies/).  \n",
    "\n",
    "- Create yang model in `data/yang/dummies/models/star-wars/napalm-star-wars.yang`\n",
    "  - ```\n",
    "    dummies\n",
    "    └── models\n",
    "       ├── napalm-star-wars\n",
    "       │  └── napalm-star-wars.yang\n",
    "       └── napalm-star-wars-library.json\n",
    "    ```\n",
    "    - Copied from [Napalm-Automation](https://napalm-automation.net/yang-for-dummies/)\n",
    "  - Create the library file (minus the comment): `cat napalm-star-wars-library.json`\n",
    "    ```\n",
    "    {\n",
    "        \"ietf-yang-library:modules-state\": {\n",
    "            \"module-set-id\": \"6bd894f2-9168-484e-a0bf-f3ed38d864f9\",\n",
    "            \"module\": [\n",
    "                {\n",
    "                    \"name\": \"napalm-star-wars\",\n",
    "                    \"revision\": \"2019-08-31\",  # <- This key *must* be present, see RFC8040\n",
    "                    \"conformance-type\": \"implement\"\n",
    "                }\n",
    "            ]\n",
    "        }\n",
    "    }\n",
    "    ```\n",
    "    [RFC8040](https://tools.ietf.org/html/rfc8040)\n",
    "  - `head napalm-star-wars.yang`\n",
    "    ```\n",
    "    // module name\n",
    "    module napalm-star-wars {\n",
    "\n",
    "        // boilerplate\n",
    "        yang-version \"1\";\n",
    "        namespace \"https://napalm-yang.readthedocs.io/yang/napalm-star-wars\";\n",
    "\n",
    "        prefix \"napalm-star-wars\";\n",
    "        revision \"2019-08-31\" {  # <- This *must* match the revision above.\n",
    "          description\n",
    "              \"initial version\";\n",
    "          reference \"0.0.1\";\n",
    "        }\n",
    "        ...\n",
    "    ```\n",
    "\n",
    "- TODO: actually write the parser\n",
    "- TODO: translator foo\n",
    "- Add driver to `./ntc_rosetta/drivers/[driver_name].py`\n",
    "- TODO: tests"
   ]
  },
  {
   "cell_type": "markdown",
   "metadata": {},
   "source": [
    "## The parser\n",
    "\n",
    "This is the code that will parse the model.  Currently copy/pasta, does nothing.\n",
    "\n",
    "REFERENCE -> the Yangify tutorials\n",
    "\n",
    "# TODO\n",
    "all of it pretty much"
   ]
  },
  {
   "cell_type": "code",
   "execution_count": 1,
   "metadata": {},
   "outputs": [],
   "source": [
    "from typing import Any, Dict, Iterator, Optional, Tuple, cast\n",
    "\n",
    "from ntc_rosetta.helpers import json_helpers as jh\n",
    "\n",
    "from yangify import parser\n",
    "from yangify.parser.text_tree import parse_indented_config\n",
    "from yangify.parser import Parser, ParserData\n",
    "\n",
    "\n",
    "class PersonalData(Parser):\n",
    "    class Yangify(ParserData):\n",
    "        path = \"/napalm-star-wars:individual/personal-data\"\n",
    "\n",
    "        def extract_elements(self) -> Iterator[Tuple[str, Dict[str, Any]]]:\n",
    "            for k, v in jh.query(\"vlan\", self.native, default={}).items():\n",
    "                if k == \"#text\":\n",
    "                    continue\n",
    "                yield k, cast(Dict[str, Any], v)\n",
    "\n",
    "    def name(self) -> Optional[str]:\n",
    "        v = jh.query('name.\"#text\"', self.yy.native)\n",
    "        if v is not None:\n",
    "            return str(v)\n",
    "        else:\n",
    "            return None\n",
    "\n",
    "    def age(self) -> int:\n",
    "        return int(self.yy.key)\n",
    "\n",
    "    def affiliation(self) -> bool:\n",
    "        return not jh.query('shutdown.\"#standalone\"', self.yy.native)\n",
    "\n",
    "\n",
    "class Universe(Parser):\n",
    "    class Yangify(ParserData):\n",
    "        path = \"/napalm-star-wars:universe/individual\"\n",
    "        metadata = {\"key\": \"dev_conf\", \"command\": \"show running-config all\"}\n",
    "\n",
    "        def pre_process(self) -> None:\n",
    "            self.native: Dict[str, Any] = self.root_native[\"dev_conf\"]\n",
    "\n",
    "    personal_data = PersonalData\n",
    "\n",
    "\n",
    "class DummyParser(parser.RootParser):\n",
    "    \"\"\"\n",
    "    DummyParser expects as native data a dictionary where the `dev_conf`\n",
    "    key is reserved for the device configuration.\n",
    "    \"\"\"\n",
    "\n",
    "    class Yangify(parser.ParserData):\n",
    "        def init(self) -> None:\n",
    "            self.root_native[\"dev_conf\"] = parse_indented_config(\n",
    "                self.root_native[\"dev_conf\"].splitlines()\n",
    "            )\n",
    "            self.native[\"dev_conf\"] = self.root_native[\"dev_conf\"]\n",
    "\n",
    "    universe = Universe"
   ]
  },
  {
   "cell_type": "markdown",
   "metadata": {},
   "source": [
    "## The driver\n",
    "We need to register the driver with rosetta so we can make use of some its utility methods.  We'll need to overload the `get_datamodel` function so we can load our custom models.\n",
    "\n",
    "### The YANG models\n",
    "ntc-rosetta is a framework, so we are able to bring-our-own-yang models to the party.  Simply tell yangson where to find the data, and we're off to the races (or the next step of debugging)!"
   ]
  },
  {
   "cell_type": "code",
   "execution_count": 7,
   "metadata": {},
   "outputs": [],
   "source": [
    "from ntc_rosetta.drivers.base import Driver\n",
    "from yangson.datamodel import DataModel\n",
    "import pathlib\n",
    "\n",
    "# This part looks just like the ios and junos drivers in ntc-rosetta\n",
    "class DummyDriverNapalmStarWars(Driver):\n",
    "    parser = DummyParser\n",
    "    translator = None\n",
    "    datamodel_name = \"napalm_star_wars\"\n",
    "    \n",
    "    # These are the overloads\n",
    "    @classmethod\n",
    "    def get_data_model(cls) -> DataModel:\n",
    "        base = pathlib.Path(\"/ntc_dummies/data/yang\")\n",
    "        lib = base.joinpath(\"dummies/models/napalm-star-wars-library.json\")\n",
    "        path = [\n",
    "            base.joinpath(\"dummies/models/napalm-star-wars\"),\n",
    "        ]\n",
    "        return DataModel.from_file(lib, path)\n",
    "    \n",
    "    @classmethod\n",
    "    def get_datamodel(cls) -> DataModel:\n",
    "        if cls._datamodel is None:\n",
    "            cls._datamodel = cls.get_data_model()\n",
    "        return cls._datamodel"
   ]
  },
  {
   "cell_type": "code",
   "execution_count": 9,
   "metadata": {},
   "outputs": [
    {
     "name": "stdout",
     "output_type": "stream",
     "text": [
      "+--rw napalm-star-wars:universe\n",
      "   +--rw individual* [name]\n",
      "      +--rw affiliation? <identityref>\n",
      "      +--rw age? <age(uint16)>\n",
      "      +--rw name <string>\n",
      "\n"
     ]
    }
   ],
   "source": [
    "# If everything wor\n",
    "dummy_driver = DummyDriverNapalmStarWars()\n",
    "# Let's see if we properly loaded the DataModel from the new YANG file\n",
    "print(dummy_driver.get_datamodel().ascii_tree())"
   ]
  },
  {
   "cell_type": "markdown",
   "metadata": {},
   "source": [
    "## The dummy device\n",
    "Our dummy device is going to implement configuration through YAML files.  That's absurd you say!  YAML is a horrible format!  I don't disagree, but it's suitable for pet examples and it lives up to the \"dummy\" device name."
   ]
  },
  {
   "cell_type": "code",
   "execution_count": 13,
   "metadata": {},
   "outputs": [
    {
     "name": "stdout",
     "output_type": "stream",
     "text": [
      "---\n",
      "universe:\n",
      "  individuals:\n",
      "  - affiliation: REBEL_ALLIANCE\n",
      "    age: 57\n",
      "    name: Obi-Wan Kenobi\n",
      "  - affiliation: REBEL_ALLIANCE\n",
      "    age: 19\n",
      "    name: Luke Skywalker\n",
      "  - affiliation: EMPIRE\n",
      "    age: 42\n",
      "    name: Darth Vader\n",
      "  - affiliation: REBEL_ALLIANCE\n",
      "    age: 896\n",
      "    name: Yoda\n",
      "\n",
      "{\n",
      "  \"universe\": {\n",
      "    \"individuals\": [\n",
      "      {\n",
      "        \"affiliation\": \"REBEL_ALLIANCE\",\n",
      "        \"age\": 57,\n",
      "        \"name\": \"Obi-Wan Kenobi\"\n",
      "      },\n",
      "      {\n",
      "        \"affiliation\": \"REBEL_ALLIANCE\",\n",
      "        \"age\": 19,\n",
      "        \"name\": \"Luke Skywalker\"\n",
      "      },\n",
      "      {\n",
      "        \"affiliation\": \"EMPIRE\",\n",
      "        \"age\": 42,\n",
      "        \"name\": \"Darth Vader\"\n",
      "      },\n",
      "      {\n",
      "        \"affiliation\": \"REBEL_ALLIANCE\",\n",
      "        \"age\": 896,\n",
      "        \"name\": \"Yoda\"\n",
      "      }\n",
      "    ]\n",
      "  }\n",
      "}\n"
     ]
    }
   ],
   "source": [
    "import json\n",
    "# NOTE: you will need to install a YAML library of your \n",
    "# choosing *from the jupyter console* for this to work\n",
    "from ruamel.yaml import YAML\n",
    "\n",
    "with open(\"data/star_wars/universe.yml\") as f:\n",
    "    config = f.read()\n",
    "\n",
    "yaml = YAML()\n",
    "config_data = yaml.load(config)\n",
    "\n",
    "print(config)\n",
    "print(json.dumps(config_data, indent=2))\n"
   ]
  },
  {
   "cell_type": "code",
   "execution_count": 11,
   "metadata": {},
   "outputs": [
    {
     "name": "stdout",
     "output_type": "stream",
     "text": [
      "{}\n"
     ]
    }
   ],
   "source": [
    "my_universe = DummyParser(dummy_driver.get_datamodel(), native=config_data)\n",
    "my_universe.process()\n",
    "# parsed = dummy_driver.parse(native={\"dev_conf\": config})\n",
    "# print(json.dumps(parsed.raw_value(), indent=4))"
   ]
  },
  {
   "cell_type": "code",
   "execution_count": null,
   "metadata": {},
   "outputs": [],
   "source": []
  }
 ],
 "metadata": {
  "kernelspec": {
   "display_name": "Python 3",
   "language": "python",
   "name": "python3"
  },
  "language_info": {
   "codemirror_mode": {
    "name": "ipython",
    "version": 3
   },
   "file_extension": ".py",
   "mimetype": "text/x-python",
   "name": "python",
   "nbconvert_exporter": "python",
   "pygments_lexer": "ipython3",
   "version": "3.6.9"
  }
 },
 "nbformat": 4,
 "nbformat_minor": 2
}
